{
 "cells": [
  {
   "cell_type": "markdown",
   "id": "8022581a-7d6a-40df-b4a3-c3d7e97713d2",
   "metadata": {},
   "source": [
    "# Data Types\n",
    "## numeric\n",
    "\n",
    "## boolean\n",
    "\n",
    "## string\n",
    "\n",
    "## list\n",
    "\n",
    "## tupples\n",
    "\n",
    "## sets\n",
    "\n",
    "## dictionaries"
   ]
  },
  {
   "cell_type": "code",
   "execution_count": 3,
   "id": "967a8675-64ed-4ad1-98ae-7fe62eb296b7",
   "metadata": {},
   "outputs": [
    {
     "data": {
      "text/plain": [
       "int"
      ]
     },
     "execution_count": 3,
     "metadata": {},
     "output_type": "execute_result"
    }
   ],
   "source": [
    "type (-12+100)"
   ]
  },
  {
   "cell_type": "code",
   "execution_count": 5,
   "id": "c303d7c5-f139-41cb-b088-46806bd1d77a",
   "metadata": {},
   "outputs": [
    {
     "data": {
      "text/plain": [
       "float"
      ]
     },
     "execution_count": 5,
     "metadata": {},
     "output_type": "execute_result"
    }
   ],
   "source": [
    "type (-12+10.25)"
   ]
  },
  {
   "cell_type": "code",
   "execution_count": 9,
   "id": "4bf2252d-518c-427a-badb-7efc0056c415",
   "metadata": {},
   "outputs": [
    {
     "data": {
      "text/plain": [
       "complex"
      ]
     },
     "execution_count": 9,
     "metadata": {},
     "output_type": "execute_result"
    }
   ],
   "source": [
    "type (-12+ 3j)"
   ]
  },
  {
   "cell_type": "code",
   "execution_count": 17,
   "id": "10309418-849c-46ef-9688-1618079c9125",
   "metadata": {},
   "outputs": [
    {
     "data": {
      "text/plain": [
       "bool"
      ]
     },
     "execution_count": 17,
     "metadata": {},
     "output_type": "execute_result"
    }
   ],
   "source": [
    "# Boolena\n",
    "type(1>5)\n"
   ]
  },
  {
   "cell_type": "code",
   "execution_count": 19,
   "id": "41020216-426b-4b44-8144-32b6788df985",
   "metadata": {},
   "outputs": [
    {
     "data": {
      "text/plain": [
       "False"
      ]
     },
     "execution_count": 19,
     "metadata": {},
     "output_type": "execute_result"
    }
   ],
   "source": [
    "1>5"
   ]
  },
  {
   "cell_type": "code",
   "execution_count": 21,
   "id": "e21f89d8-564f-4894-a10c-11d221773b94",
   "metadata": {},
   "outputs": [
    {
     "data": {
      "text/plain": [
       "str"
      ]
     },
     "execution_count": 21,
     "metadata": {},
     "output_type": "execute_result"
    }
   ],
   "source": [
    "#Strings\n",
    "type( 'boca')"
   ]
  },
  {
   "cell_type": "code",
   "execution_count": 23,
   "id": "8a7357cd-1d01-427a-8816-f6975cd6e93c",
   "metadata": {},
   "outputs": [
    {
     "data": {
      "text/plain": [
       "' \\nmy ice cream\\nsweets\\nlook aways\\non this day\\n'"
      ]
     },
     "execution_count": 23,
     "metadata": {},
     "output_type": "execute_result"
    }
   ],
   "source": [
    "\"\"\" \n",
    "my ice cream\n",
    "sweets\n",
    "look aways\n",
    "on this day\n",
    "\"\"\""
   ]
  },
  {
   "cell_type": "code",
   "execution_count": 27,
   "id": "fcaebd8b-1fa0-4101-86f3-4050586e54a5",
   "metadata": {},
   "outputs": [
    {
     "name": "stdout",
     "output_type": "stream",
     "text": [
      " \n"
     ]
    }
   ],
   "source": [
    "a = 'hello world'\n",
    "print(a[5])"
   ]
  },
  {
   "cell_type": "raw",
   "id": "4ea0e377-eb3f-4857-bcae-332cf965da2f",
   "metadata": {},
   "source": [
    "a = 'hello world'\n",
    "print(a[5])"
   ]
  },
  {
   "cell_type": "code",
   "execution_count": null,
   "id": "7373dcbf-1e5c-4251-ac39-29911ea3830c",
   "metadata": {},
   "outputs": [],
   "source": []
  },
  {
   "cell_type": "code",
   "execution_count": 29,
   "id": "1f6da49c-d259-4c64-9530-f1ec7426ab66",
   "metadata": {},
   "outputs": [
    {
     "data": {
      "text/plain": [
       "[1, 2, 3]"
      ]
     },
     "execution_count": 29,
     "metadata": {},
     "output_type": "execute_result"
    }
   ],
   "source": [
    "# List\n",
    "[1,2,3]"
   ]
  },
  {
   "cell_type": "code",
   "execution_count": null,
   "id": "6e731076-bb5b-4d8e-a083-9eeed8cc542f",
   "metadata": {},
   "outputs": [],
   "source": []
  },
  {
   "cell_type": "code",
   "execution_count": null,
   "id": "e181d15d-f55e-48dd-8ae0-833f350941e4",
   "metadata": {},
   "outputs": [],
   "source": []
  },
  {
   "cell_type": "code",
   "execution_count": null,
   "id": "796d48bd-19ad-4e69-a258-01a7fa5c656d",
   "metadata": {},
   "outputs": [],
   "source": []
  },
  {
   "cell_type": "code",
   "execution_count": null,
   "id": "e18900d4-b53c-46d4-bc0b-ad8ad837e2cc",
   "metadata": {},
   "outputs": [],
   "source": []
  },
  {
   "cell_type": "code",
   "execution_count": null,
   "id": "de445336-3161-49c7-95b6-ba2add7b2dc5",
   "metadata": {},
   "outputs": [],
   "source": []
  },
  {
   "cell_type": "code",
   "execution_count": null,
   "id": "ccf85ef5-ecea-4d8a-896c-66a7ac7ad0b6",
   "metadata": {},
   "outputs": [],
   "source": []
  },
  {
   "cell_type": "code",
   "execution_count": null,
   "id": "358a94a7-ec90-4731-8d3a-fae9434d0858",
   "metadata": {},
   "outputs": [],
   "source": []
  }
 ],
 "metadata": {
  "kernelspec": {
   "display_name": "Python 3 (ipykernel)",
   "language": "python",
   "name": "python3"
  },
  "language_info": {
   "codemirror_mode": {
    "name": "ipython",
    "version": 3
   },
   "file_extension": ".py",
   "mimetype": "text/x-python",
   "name": "python",
   "nbconvert_exporter": "python",
   "pygments_lexer": "ipython3",
   "version": "3.12.4"
  }
 },
 "nbformat": 4,
 "nbformat_minor": 5
}
