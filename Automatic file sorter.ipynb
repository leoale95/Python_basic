{
 "cells": [
  {
   "cell_type": "markdown",
   "id": "5503e71c-7f16-43b1-9b7c-356217a7d54f",
   "metadata": {},
   "source": [
    "# Automatic file browser\n"
   ]
  },
  {
   "cell_type": "code",
   "execution_count": 4,
   "id": "d3907a19-c6c8-4d4a-a7bd-8f125bdc3c94",
   "metadata": {},
   "outputs": [],
   "source": [
    "import os, shutil"
   ]
  },
  {
   "cell_type": "code",
   "execution_count": 22,
   "id": "1e0afa4f-8490-4dda-85dd-a8f33c777674",
   "metadata": {},
   "outputs": [],
   "source": [
    "path = r\"C:/Users\\/Owner/Desktop/Programacion/Excel/\""
   ]
  },
  {
   "cell_type": "code",
   "execution_count": 32,
   "id": "d312f11e-2506-40ed-8f8f-40128d134083",
   "metadata": {},
   "outputs": [],
   "source": [
    "file_name = os.listdir(path)"
   ]
  },
  {
   "cell_type": "code",
   "execution_count": 28,
   "id": "a85914b8-4567-4de4-9dec-857c1ffc9849",
   "metadata": {},
   "outputs": [],
   "source": [
    "folder_names = ['PNG files', 'Excel files', 'md files']\n",
    "\n",
    "for loop in range(0,3):\n",
    "   if not os.path.exists(path + folder_names[loop]):\n",
    "       os.makedirs((path + folder_names[loop]))"
   ]
  },
  {
   "cell_type": "code",
   "execution_count": 36,
   "id": "dd5d0fb1-0032-4f6b-8a1c-8c3adc2351e5",
   "metadata": {},
   "outputs": [],
   "source": [
    "for file in file_name:\n",
    "    if \".xlsx\" in file and not os.path.exists(path + \"Excel files/\" + file):\n",
    "        shutil.move(path + file, path + \"Excel files/\" + file)"
   ]
  },
  {
   "cell_type": "code",
   "execution_count": null,
   "id": "e26b190e-48b2-4fd8-bacb-688d8bade73c",
   "metadata": {},
   "outputs": [],
   "source": [
    "\n"
   ]
  }
 ],
 "metadata": {
  "kernelspec": {
   "display_name": "Python 3 (ipykernel)",
   "language": "python",
   "name": "python3"
  },
  "language_info": {
   "codemirror_mode": {
    "name": "ipython",
    "version": 3
   },
   "file_extension": ".py",
   "mimetype": "text/x-python",
   "name": "python",
   "nbconvert_exporter": "python",
   "pygments_lexer": "ipython3",
   "version": "3.12.4"
  }
 },
 "nbformat": 4,
 "nbformat_minor": 5
}
